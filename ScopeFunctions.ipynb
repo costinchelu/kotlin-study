{
 "cells": [
  {
   "cell_type": "code",
   "metadata": {
    "collapsed": true,
    "ExecuteTime": {
     "end_time": "2025-04-30T13:52:52.846719Z",
     "start_time": "2025-04-30T13:52:52.752737Z"
    }
   },
   "source": [
    "// \"it\" in lambda, ignore lambda result\n",
    "val alsoResult: Int = (2 + 2).also { println(it) }\n",
    "\n",
    "// \"this\" in lambda, ignore lambda result\n",
    "val applyResult: Int = (2 + 2).apply { println(this) }\n",
    "\n",
    "\n",
    "// \"it\" in lambda, return a lambda result\n",
    "val letResult: String = (2 + 2).let { it.toString() }\n",
    "\n",
    "// \"this\" in lambda, return a lambda result\n",
    "val runResult: String = (2 + 2).run { this.toString() }\n",
    "\n",
    "println(\"$letResult  ${letResult::class.java.name}\")\n",
    "println(\"$runResult  ${letResult::class.java.name}\")\n",
    "\n",
    "// non extension, \"this\" in lambda, return lambda result\n",
    "val withResult = with (2 + 2) { println(this) }"
   ],
   "outputs": [
    {
     "name": "stdout",
     "output_type": "stream",
     "text": [
      "4\n",
      "4\n",
      "4  java.lang.String\n",
      "4  java.lang.String\n",
      "4\n"
     ]
    }
   ],
   "execution_count": 10
  },
  {
   "metadata": {
    "ExecuteTime": {
     "end_time": "2025-04-30T13:54:10.771711Z",
     "start_time": "2025-04-30T13:54:10.735483Z"
    }
   },
   "cell_type": "code",
   "source": [
    "// we want to return a value but \"also\" do something with it\n",
    "fun whenToUseAlso(): Int {\n",
    "    return (2 + 2).also { println(it) }\n",
    "}"
   ],
   "outputs": [],
   "execution_count": 11
  },
  {
   "metadata": {
    "ExecuteTime": {
     "end_time": "2025-04-30T13:55:19.200497Z",
     "start_time": "2025-04-30T13:55:19.100056Z"
    }
   },
   "cell_type": "code",
   "source": [
    "import kotlin.random.Random\n",
    "\n",
    "// \"let\" is somewhat synonym to \"map\" for optionals (useful for chaining operations on nullable values)\n",
    "fun whenToUseLet(): Int {\n",
    "    val maybeNull = if (Random.nextBoolean()) 2 else null\n",
    "    return maybeNull?.let { it + 2 } ?: 0\n",
    "}"
   ],
   "outputs": [],
   "execution_count": 12
  },
  {
   "metadata": {},
   "cell_type": "code",
   "outputs": [],
   "execution_count": null,
   "source": [
    "import kotlin.random.Random\n",
    "\n",
    "fun imperativeApproach(): Int? {\n",
    "    val int = Random.nextInt()\n",
    "    return if (int % 2 == 0) int * 2 else null\n",
    "}\n",
    "\n",
    "// \"takeIf\" is useful for filtering - return the object if the predicate is true, null otherwise\n",
    "fun FunctionalApproachUsingTakeIf(): Int? = Random.nextInt().takeIf { it % 2 == 0 }?.let { it * 2 }"
   ]
  },
  {
   "metadata": {
    "ExecuteTime": {
     "end_time": "2025-04-30T13:58:01.708887Z",
     "start_time": "2025-04-30T13:58:01.553156Z"
    }
   },
   "cell_type": "code",
   "source": [
    "// \"with\" is useful for mappers and assertions\n",
    "fun map(offer: Offer): FulfilmentOffer = with(offer) {\n",
    "    FulfilmentOffer(\n",
    "        offerId = id,\n",
    "        sellerId = sellerId,\n",
    "        fulfilmentProductId = productId\n",
    "    )\n",
    "}\n",
    "\n",
    "fun mapNoWith(offer: Offer): FulfilmentOffer =\n",
    "    FulfilmentOffer(\n",
    "        offerId = offer.id,\n",
    "        sellerId = offer.sellerId,\n",
    "        fulfilmentProductId = offer.productId\n",
    "    )\n",
    "\n",
    "\n",
    "\n",
    "\n",
    "data class FulfilmentOffer(\n",
    "    val offerId: String,\n",
    "    val sellerId: String,\n",
    "    val fulfilmentProductId: String\n",
    ")\n",
    "\n",
    "data class Offer(\n",
    "    val id: String,\n",
    "    val sellerId: String,\n",
    "    val productId: String,\n",
    ")"
   ],
   "outputs": [],
   "execution_count": 13
  }
 ],
 "metadata": {
  "kernelspec": {
   "display_name": "Kotlin",
   "language": "kotlin",
   "name": "kotlin"
  },
  "language_info": {
   "name": "kotlin",
   "version": "1.9.23",
   "mimetype": "text/x-kotlin",
   "file_extension": ".kt",
   "pygments_lexer": "kotlin",
   "codemirror_mode": "text/x-kotlin",
   "nbconvert_exporter": ""
  }
 },
 "nbformat": 4,
 "nbformat_minor": 0
}
